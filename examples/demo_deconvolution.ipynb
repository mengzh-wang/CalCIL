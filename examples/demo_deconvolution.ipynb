{
 "cells": [
  {
   "cell_type": "markdown",
   "metadata": {},
   "source": [
    "# Demo notebook for CalCIL"
   ]
  },
  {
   "cell_type": "code",
   "execution_count": 1,
   "metadata": {},
   "outputs": [
    {
     "name": "stderr",
     "output_type": "stream",
     "text": [
      "WARNING:absl:GlobalAsyncCheckpointManager is not imported correctly. Checkpointing of GlobalDeviceArrays will not be available.To use the feature, install tensorstore.\n"
     ]
    }
   ],
   "source": [
    "import jax.numpy as jnp\n",
    "import calcil as cc\n",
    "import jax\n",
    "from flax import linen as nn\n",
    "from typing import Tuple\n",
    "import matplotlib.pyplot as plt"
   ]
  },
  {
   "cell_type": "markdown",
   "metadata": {},
   "source": [
    "## Define forward model\n",
    "\n",
    "A computational imaging problem can be often written in the form of an inverse problem. Here we have a simple example of a linear inverse problem, where we have a linear operator $A$ and a vector $x$ that we want to recover from the measurement $y$. The forward model is given by:\n",
    "$$y = A \\cdot x.$$\n",
    "\n",
    "Let's use a convolutional forward model as an example. We will use a point spread function (PSF) to model the blurring effect of the optical system. The forward model can be written as:"
   ]
  },
  {
   "cell_type": "code",
   "execution_count": 2,
   "metadata": {},
   "outputs": [],
   "source": [
    "class ConvImager(cc.forward.Model):\n",
    "    dim_yx: Tuple[int, int]\n",
    "    psf: jnp.ndarray\n",
    "\n",
    "    def setup(self):\n",
    "        # assume psf has the same shape as the unknown x\n",
    "        assert self.dim_yx == self.psf.shape\n",
    "\n",
    "        # prepare for convolution by FFT\n",
    "        self.psf_pad = jnp.pad(self.psf, ((self.dim_yx[0] - self.dim_yx[0] // 2, self.dim_yx[0] // 2),\n",
    "                                          (self.dim_yx[1] - self.dim_yx[1] // 2, self.dim_yx[1] // 2)))\n",
    "        self.f_psf_pad = jnp.fft.rfft2(jnp.fft.ifftshift(self.psf_pad, axes=(-2, -1)), axes=(-2, -1))\n",
    "\n",
    "    def __call__(self, x):\n",
    "        \"\"\"Forward model\"\"\"\n",
    "        pad_x = jnp.pad(x, ((self.dim_yx[0] // 2, self.dim_yx[0] - self.dim_yx[0] // 2),\n",
    "                                 (self.dim_yx[1] // 2, self.dim_yx[1] - self.dim_yx[1] // 2)))\n",
    "        out = jnp.fft.irfft2(jnp.fft.rfft2(pad_x, axes=(-2, -1)) * self.f_psf_pad, axes=(-2, -1))[self.dim_yx[0] // 2:-self.dim_yx[0] // 2, self.dim_yx[1] // 2:-self.dim_yx[1] // 2]\n",
    "\n",
    "        return out\n",
    "\n",
    "psf = jnp.array([[0, 0, 0, 0, 0],\n",
    "                 [0, 0, 0.3, 0, 0],\n",
    "                 [0, 0.3, 1, 0.3, 0],\n",
    "                 [0, 0, 0.3, 0, 0],\n",
    "                 [0, 0, 0, 0, 0]])\n",
    "forward_model = ConvImager(dim_yx=(5, 5), psf=psf)"
   ]
  },
  {
   "cell_type": "markdown",
   "metadata": {},
   "source": [
    "Now, given an input object $x$, we can generate the measurement $y$ by applying the forward model."
   ]
  },
  {
   "cell_type": "code",
   "execution_count": 3,
   "metadata": {},
   "outputs": [
    {
     "data": {
      "text/plain": [
       "Text(0.5, 1.0, 'y')"
      ]
     },
     "execution_count": 3,
     "metadata": {},
     "output_type": "execute_result"
    },
    {
     "data": {
      "image/png": "[encoded data removed]",
      "text/plain": [
       "<Figure size 432x288 with 2 Axes>"
      ]
     },
     "metadata": {
      "needs_background": "light"
     },
     "output_type": "display_data"
    }
   ],
   "source": [
    "x = jnp.array([[0, 0, 0, 0, 0],\n",
    "               [0, 0, 0, 0, 0],\n",
    "               [0, 0, 0, 1, 0],\n",
    "               [0, 0, 0, 0, 0],\n",
    "               [0, 2, 0, 0, 0]])\n",
    "\n",
    "# the empty dict is for the case when we have additional parameters specified by `self.params` in the model (see more below in the reconstruction)\n",
    "y = forward_model.apply({}, x=x)\n",
    "\n",
    "f, axes = plt.subplots(1, 2)\n",
    "axes[0].imshow(x, cmap='gray')\n",
    "axes[0].set_title('x')\n",
    "axes[1].imshow(y, cmap='gray')\n",
    "axes[1].set_title('y')"
   ]
  },
  {
   "cell_type": "markdown",
   "metadata": {},
   "source": [
    "## Run reconstruction (deconvolution)\n",
    "\n",
    "Assume we don't already know the object $x$ but know the PSF used in forward model, we can run deconvolution to reconstruct $x$ from the measurement $y$."
   ]
  },
  {
   "cell_type": "markdown",
   "metadata": {},
   "source": [
    "We first rewrite the forward model in the form suitable for an inverse problem:"
   ]
  },
  {
   "cell_type": "code",
   "execution_count": 5,
   "metadata": {},
   "outputs": [],
   "source": [
    "class ConvImagerInv(cc.forward.Model):\n",
    "    dim_yx: Tuple[int, int]\n",
    "    psf: jnp.ndarray\n",
    "\n",
    "    def setup(self):\n",
    "        # Define the unknown x\n",
    "        self.x = self.param('x', nn.initializers.zeros, self.dim_yx)\n",
    "\n",
    "        # Use the forward model defined previously\n",
    "        self.conv_imager = ConvImager(dim_yx=self.dim_yx, psf=self.psf)\n",
    "\n",
    "    def __call__(self, input_dict):\n",
    "        \"\"\"forward model always has a input_dict input argument\"\"\"\n",
    "        y = self.conv_imager(self.x)\n",
    "        return y\n",
    "    \n",
    "forward_model_inv = ConvImagerInv(dim_yx=(5, 5), psf=psf)"
   ]
  },
  {
   "cell_type": "markdown",
   "metadata": {},
   "source": [
    "We define a dataloader which is a generator that yields a dictionary of input values each time. In this case, each dictionary contains the same measurement $y$. In general, we can use the built-in dataloader from `data_utils` module in CalCIL."
   ]
  },
  {
   "cell_type": "code",
   "execution_count": 6,
   "metadata": {},
   "outputs": [
    {
     "name": "stdout",
     "output_type": "stream",
     "text": [
      "n_imgs: 1, n_batches: 1.\n",
      "[{'epoch': 1, 'step': 1, 'batch': 0, 'y': DeviceArray([[[ 7.21064053e-09,  1.30451321e-08, -2.07230091e-08,\n",
      "               -2.14576712e-08, -1.51247748e-09],\n",
      "              [-2.50738186e-08,  7.86567966e-09, -5.05019671e-09,\n",
      "                3.00000012e-01,  1.17474155e-08],\n",
      "              [-9.90941729e-09, -1.85088442e-08,  2.99999982e-01,\n",
      "                1.00000000e+00,  3.00000012e-01],\n",
      "              [-1.90734859e-08,  5.99999964e-01, -1.36727065e-08,\n",
      "                2.99999982e-01,  9.45452161e-09],\n",
      "              [ 5.99999964e-01,  2.00000000e+00,  6.00000024e-01,\n",
      "                9.53674295e-09, -8.96148862e-08]]], dtype=float32)}]\n"
     ]
    }
   ],
   "source": [
    "# prefix_dim is the shape of the batch dimension. In this case, it is (1,) since we have only one image.\n",
    "data_loader = cc.data_utils.loader_from_numpy({'y': y[jnp.newaxis]}, prefix_dim=(1,))\n",
    "\n",
    "print(next(data_loader))"
   ]
  },
  {
   "cell_type": "markdown",
   "metadata": {},
   "source": [
    "Next, we define the loss function used for the update. Here we use the L2 loss."
   ]
  },
  {
   "cell_type": "code",
   "execution_count": 12,
   "metadata": {},
   "outputs": [],
   "source": [
    "# loss function is a callable that always takes forward_output, variables, input_dict, intermediate as arguments, and returns a scalar.\n",
    "# In this case, we use a pre-defined l2 loss function getter, which only requires the input dictionary key to retrieve the measurement from the input dictionary.\n",
    "l2_loss = cc.loss.get_l2_loss('y')\n",
    "\n",
    "# register the loss function to calcil\n",
    "loss = cc.loss.Loss(l2_loss, 'l2')"
   ]
  },
  {
   "cell_type": "markdown",
   "metadata": {},
   "source": [
    "We need to set up the initial value for the object $x$. The initial values are stored in a structured dictionary.\n",
    "\n",
    "There are two ways to initialize such a dictionary. One way is to use the built-in `init` function. The other way is to manually define the initial dictionary."
   ]
  },
  {
   "cell_type": "code",
   "execution_count": 8,
   "metadata": {},
   "outputs": [
    {
     "name": "stdout",
     "output_type": "stream",
     "text": [
      "FrozenDict({\n",
      "    params: {\n",
      "        x: DeviceArray([[0., 0., 0., 0., 0.],\n",
      "                     [0., 0., 0., 0., 0.],\n",
      "                     [0., 0., 0., 0., 0.],\n",
      "                     [0., 0., 0., 0., 0.],\n",
      "                     [0., 0., 0., 0., 0.]], dtype=float32),\n",
      "    },\n",
      "})\n"
     ]
    }
   ],
   "source": [
    "# using built-in init function to initialize the variables\n",
    "\n",
    "# random seed is needed to pass to the init function even though it won't be used for this case (no randomness)\n",
    "rng = jax.random.PRNGKey(0)\n",
    "variables = forward_model_inv.init(rng, input_dict=next(data_loader)[0])\n",
    "\n",
    "print(variables)"
   ]
  },
  {
   "cell_type": "markdown",
   "metadata": {},
   "source": [
    "Finally, we run the deconvolution algorithm to reconstruct the object $x$ from the measurement $y$."
   ]
  },
  {
   "cell_type": "code",
   "execution_count": 22,
   "metadata": {},
   "outputs": [
    {
     "name": "stdout",
     "output_type": "stream",
     "text": [
      "epoch: 10, l2: 0.035520, total_loss: 0.035520, epoch per sec: 35.949\n",
      "epoch: 20, l2: 0.017071, total_loss: 0.017071, epoch per sec: 566.13\n",
      "epoch: 30, l2: 0.0041909, total_loss: 0.0041909, epoch per sec: 639.49\n",
      "epoch: 40, l2: 0.0038545, total_loss: 0.0038545, epoch per sec: 645.98\n",
      "epoch: 50, l2: 0.0013622, total_loss: 0.0013622, epoch per sec: 629.44\n",
      "epoch: 60, l2: 0.00084694, total_loss: 0.00084694, epoch per sec: 648.88\n",
      "epoch: 70, l2: 0.00051228, total_loss: 0.00051228, epoch per sec: 642.40\n",
      "epoch: 80, l2: 0.00034189, total_loss: 0.00034189, epoch per sec: 636.50\n",
      "epoch: 90, l2: 0.00025375, total_loss: 0.00025375, epoch per sec: 633.16\n",
      "epoch: 100, l2: 0.00020607, total_loss: 0.00020607, epoch per sec: 627.00\n",
      "epoch: 110, l2: 0.00017939, total_loss: 0.00017939, epoch per sec: 614.74\n",
      "epoch: 120, l2: 0.00016568, total_loss: 0.00016568, epoch per sec: 592.52\n",
      "epoch: 130, l2: 0.00015652, total_loss: 0.00015652, epoch per sec: 604.08\n",
      "epoch: 140, l2: 0.00014957, total_loss: 0.00014957, epoch per sec: 600.71\n",
      "epoch: 150, l2: 0.00014355, total_loss: 0.00014355, epoch per sec: 618.90\n",
      "epoch: 160, l2: 0.00013777, total_loss: 0.00013777, epoch per sec: 605.75\n",
      "epoch: 170, l2: 0.00013212, total_loss: 0.00013212, epoch per sec: 626.60\n",
      "epoch: 180, l2: 0.00012653, total_loss: 0.00012653, epoch per sec: 574.03\n",
      "epoch: 190, l2: 0.00012101, total_loss: 0.00012101, epoch per sec: 528.94\n",
      "epoch: 200, l2: 0.00011558, total_loss: 0.00011558, epoch per sec: 645.46\n",
      "epoch: 210, l2: 0.00011025, total_loss: 0.00011025, epoch per sec: 620.11\n",
      "epoch: 220, l2: 0.00010503, total_loss: 0.00010503, epoch per sec: 616.33\n",
      "epoch: 230, l2: 9.9924e-05, total_loss: 9.9924e-05, epoch per sec: 603.23\n",
      "epoch: 240, l2: 9.4949e-05, total_loss: 9.4949e-05, epoch per sec: 622.10\n",
      "epoch: 250, l2: 9.0110e-05, total_loss: 9.0110e-05, epoch per sec: 631.84\n",
      "epoch: 260, l2: 8.5412e-05, total_loss: 8.5412e-05, epoch per sec: 650.11\n",
      "epoch: 270, l2: 8.0861e-05, total_loss: 8.0861e-05, epoch per sec: 638.44\n",
      "epoch: 280, l2: 7.6460e-05, total_loss: 7.6460e-05, epoch per sec: 638.84\n",
      "epoch: 290, l2: 7.2212e-05, total_loss: 7.2212e-05, epoch per sec: 639.70\n",
      "epoch: 300, l2: 6.8120e-05, total_loss: 6.8120e-05, epoch per sec: 649.75\n",
      "epoch: 310, l2: 6.4184e-05, total_loss: 6.4184e-05, epoch per sec: 625.41\n",
      "epoch: 320, l2: 6.0405e-05, total_loss: 6.0405e-05, epoch per sec: 644.55\n",
      "epoch: 330, l2: 5.6783e-05, total_loss: 5.6783e-05, epoch per sec: 628.88\n",
      "epoch: 340, l2: 5.3317e-05, total_loss: 5.3317e-05, epoch per sec: 622.38\n",
      "epoch: 350, l2: 5.0006e-05, total_loss: 5.0006e-05, epoch per sec: 584.37\n",
      "epoch: 360, l2: 4.6847e-05, total_loss: 4.6847e-05, epoch per sec: 602.66\n",
      "epoch: 370, l2: 4.3839e-05, total_loss: 4.3839e-05, epoch per sec: 632.23\n",
      "epoch: 380, l2: 4.0977e-05, total_loss: 4.0977e-05, epoch per sec: 633.83\n",
      "epoch: 390, l2: 3.8260e-05, total_loss: 3.8260e-05, epoch per sec: 640.14\n",
      "epoch: 400, l2: 3.5683e-05, total_loss: 3.5683e-05, epoch per sec: 632.36\n",
      "epoch: 410, l2: 3.3244e-05, total_loss: 3.3244e-05, epoch per sec: 639.62\n",
      "epoch: 420, l2: 3.0936e-05, total_loss: 3.0936e-05, epoch per sec: 623.10\n",
      "epoch: 430, l2: 2.8758e-05, total_loss: 2.8758e-05, epoch per sec: 635.32\n",
      "epoch: 440, l2: 2.6703e-05, total_loss: 2.6703e-05, epoch per sec: 629.62\n",
      "epoch: 450, l2: 2.4769e-05, total_loss: 2.4769e-05, epoch per sec: 624.44\n",
      "epoch: 460, l2: 2.2949e-05, total_loss: 2.2949e-05, epoch per sec: 594.94\n",
      "epoch: 470, l2: 2.1241e-05, total_loss: 2.1241e-05, epoch per sec: 616.91\n",
      "epoch: 480, l2: 1.9638e-05, total_loss: 1.9638e-05, epoch per sec: 600.68\n",
      "epoch: 490, l2: 1.8136e-05, total_loss: 1.8136e-05, epoch per sec: 623.09\n",
      "epoch: 500, l2: 1.6731e-05, total_loss: 1.6731e-05, epoch per sec: 598.72\n",
      "epoch: 510, l2: 1.5419e-05, total_loss: 1.5419e-05, epoch per sec: 614.97\n",
      "epoch: 520, l2: 1.4194e-05, total_loss: 1.4194e-05, epoch per sec: 625.88\n",
      "epoch: 530, l2: 1.3053e-05, total_loss: 1.3053e-05, epoch per sec: 623.99\n",
      "epoch: 540, l2: 1.1990e-05, total_loss: 1.1990e-05, epoch per sec: 623.22\n",
      "epoch: 550, l2: 1.1002e-05, total_loss: 1.1002e-05, epoch per sec: 624.12\n",
      "epoch: 560, l2: 1.0085e-05, total_loss: 1.0085e-05, epoch per sec: 618.81\n",
      "epoch: 570, l2: 9.2344e-06, total_loss: 9.2344e-06, epoch per sec: 601.79\n",
      "epoch: 580, l2: 8.4465e-06, total_loss: 8.4465e-06, epoch per sec: 621.30\n",
      "epoch: 590, l2: 7.7175e-06, total_loss: 7.7175e-06, epoch per sec: 617.41\n",
      "epoch: 600, l2: 7.0440e-06, total_loss: 7.0440e-06, epoch per sec: 619.34\n",
      "epoch: 610, l2: 6.4224e-06, total_loss: 6.4224e-06, epoch per sec: 625.31\n",
      "epoch: 620, l2: 5.8494e-06, total_loss: 5.8494e-06, epoch per sec: 623.53\n",
      "epoch: 630, l2: 5.3218e-06, total_loss: 5.3218e-06, epoch per sec: 619.57\n",
      "epoch: 640, l2: 4.8367e-06, total_loss: 4.8367e-06, epoch per sec: 626.60\n",
      "epoch: 650, l2: 4.3911e-06, total_loss: 4.3911e-06, epoch per sec: 614.56\n",
      "epoch: 660, l2: 3.9822e-06, total_loss: 3.9822e-06, epoch per sec: 611.10\n",
      "epoch: 670, l2: 3.6076e-06, total_loss: 3.6076e-06, epoch per sec: 621.82\n",
      "epoch: 680, l2: 3.2647e-06, total_loss: 3.2647e-06, epoch per sec: 596.68\n",
      "epoch: 690, l2: 2.9512e-06, total_loss: 2.9512e-06, epoch per sec: 617.78\n",
      "epoch: 700, l2: 2.6650e-06, total_loss: 2.6650e-06, epoch per sec: 617.63\n",
      "epoch: 710, l2: 2.4040e-06, total_loss: 2.4040e-06, epoch per sec: 622.95\n",
      "epoch: 720, l2: 2.1662e-06, total_loss: 2.1662e-06, epoch per sec: 622.00\n",
      "epoch: 730, l2: 1.9498e-06, total_loss: 1.9498e-06, epoch per sec: 624.72\n",
      "epoch: 740, l2: 1.7532e-06, total_loss: 1.7532e-06, epoch per sec: 639.93\n",
      "epoch: 750, l2: 1.5906e-06, total_loss: 1.5906e-06, epoch per sec: 640.14\n",
      "epoch: 760, l2: 1.3150e-05, total_loss: 1.3150e-05, epoch per sec: 643.58\n",
      "epoch: 770, l2: 6.2738e-05, total_loss: 6.2738e-05, epoch per sec: 645.57\n",
      "epoch: 780, l2: 2.7197e-05, total_loss: 2.7197e-05, epoch per sec: 641.61\n",
      "epoch: 790, l2: 4.6611e-06, total_loss: 4.6611e-06, epoch per sec: 638.38\n",
      "epoch: 800, l2: 9.4869e-07, total_loss: 9.4869e-07, epoch per sec: 636.04\n",
      "epoch: 810, l2: 1.3258e-06, total_loss: 1.3258e-06, epoch per sec: 637.10\n",
      "epoch: 820, l2: 1.0661e-06, total_loss: 1.0661e-06, epoch per sec: 637.46\n",
      "epoch: 830, l2: 7.8441e-07, total_loss: 7.8441e-07, epoch per sec: 642.30\n",
      "epoch: 840, l2: 6.1886e-07, total_loss: 6.1886e-07, epoch per sec: 639.48\n",
      "epoch: 850, l2: 5.1851e-07, total_loss: 5.1851e-07, epoch per sec: 640.24\n",
      "epoch: 860, l2: 4.5436e-07, total_loss: 4.5436e-07, epoch per sec: 638.21\n",
      "epoch: 870, l2: 4.0564e-07, total_loss: 4.0564e-07, epoch per sec: 643.42\n",
      "epoch: 880, l2: 3.5778e-07, total_loss: 3.5778e-07, epoch per sec: 642.38\n",
      "epoch: 890, l2: 3.1686e-07, total_loss: 3.1686e-07, epoch per sec: 642.42\n",
      "epoch: 900, l2: 2.7999e-07, total_loss: 2.7999e-07, epoch per sec: 648.52\n",
      "epoch: 910, l2: 2.4742e-07, total_loss: 2.4742e-07, epoch per sec: 635.21\n",
      "epoch: 920, l2: 2.1837e-07, total_loss: 2.1837e-07, epoch per sec: 607.95\n",
      "epoch: 930, l2: 1.9251e-07, total_loss: 1.9251e-07, epoch per sec: 632.76\n",
      "epoch: 940, l2: 1.6954e-07, total_loss: 1.6954e-07, epoch per sec: 629.78\n",
      "epoch: 950, l2: 1.4914e-07, total_loss: 1.4914e-07, epoch per sec: 638.14\n",
      "epoch: 960, l2: 1.3105e-07, total_loss: 1.3105e-07, epoch per sec: 639.85\n",
      "epoch: 970, l2: 1.1512e-07, total_loss: 1.1512e-07, epoch per sec: 640.56\n",
      "epoch: 980, l2: 1.1164e-07, total_loss: 1.1164e-07, epoch per sec: 634.24\n",
      "epoch: 990, l2: 3.5425e-06, total_loss: 3.5425e-06, epoch per sec: 638.40\n",
      "epoch: 1000, l2: 9.6054e-05, total_loss: 9.6054e-05, epoch per sec: 639.44\n",
      "Total elapsed time in sec: 2.0902, average epoch per sec: 478.42\n"
     ]
    },
    {
     "data": {
      "text/plain": [
       "Text(0.5, 1.0, 'reconstructed x')"
      ]
     },
     "execution_count": 22,
     "metadata": {},
     "output_type": "execute_result"
    },
    {
     "data": {
      "image/png": "[encoded data removed]",
      "text/plain": [
       "<Figure size 432x288 with 2 Axes>"
      ]
     },
     "metadata": {
      "needs_background": "light"
     },
     "output_type": "display_data"
    }
   ],
   "source": [
    "recon_param = cc.reconstruction.ReconIterParameters(save_dir='./checkpoint/demo_deconv', n_epoch=1000, log_every=10)\n",
    "\n",
    "var_params = cc.reconstruction.ReconVarParameters(lr=1e-1, opt='adam')\n",
    "\n",
    "recon, _ = cc.reconstruction.reconstruct_multivars_sgd(forward_model_inv.apply, variables, var_params,\n",
    "                                                       data_loader, loss, recon_param)\n",
    "\n",
    "f, axes = plt.subplots(1, 2)\n",
    "axes[0].imshow(x, cmap='gray')\n",
    "axes[0].set_title('x')\n",
    "axes[1].imshow(recon['params']['x'], cmap='gray')\n",
    "axes[1].set_title('reconstructed x')"
   ]
  },
  {
   "cell_type": "code",
   "execution_count": null,
   "metadata": {},
   "outputs": [],
   "source": []
  }
 ],
 "metadata": {
  "kernelspec": {
   "display_name": "py39-jax-latest",
   "language": "python",
   "name": "python3"
  },
  "language_info": {
   "codemirror_mode": {
    "name": "ipython",
    "version": 3
   },
   "file_extension": ".py",
   "mimetype": "text/x-python",
   "name": "python",
   "nbconvert_exporter": "python",
   "pygments_lexer": "ipython3",
   "version": "3.9.13"
  }
 },
 "nbformat": 4,
 "nbformat_minor": 2
}
